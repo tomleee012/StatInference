{
 "cells": [
  {
   "cell_type": "code",
   "execution_count": 1,
   "metadata": {},
   "outputs": [],
   "source": [
    "import os, sys, json, scipy\n",
    "import numpy as np"
   ]
  },
  {
   "cell_type": "code",
   "execution_count": 15,
   "metadata": {},
   "outputs": [
    {
     "data": {
      "text/plain": [
       "array([[ 2,  6],\n",
       "       [ 1,  3],\n",
       "       [ 3,  9],\n",
       "       [ 5, 15]])"
      ]
     },
     "execution_count": 15,
     "metadata": {},
     "output_type": "execute_result"
    }
   ],
   "source": [
    "mat = np.array([[2, 6], [1, 3], [3, 9], [5, 15]])\n",
    "mat"
   ]
  },
  {
   "cell_type": "code",
   "execution_count": 16,
   "metadata": {},
   "outputs": [
    {
     "data": {
      "text/plain": [
       "array([390.,   0.])"
      ]
     },
     "execution_count": 16,
     "metadata": {},
     "output_type": "execute_result"
    }
   ],
   "source": [
    "eigenval, eigenvec = np.linalg.eig(np.matmul(mat.transpose(), mat))\n",
    "eigenvec = eigenvec[np.argsort(eigenval)[::-1]]\n",
    "eigenval = np.sort(eigenval)[::-1]\n",
    "eigenval"
   ]
  },
  {
   "cell_type": "code",
   "execution_count": 17,
   "metadata": {},
   "outputs": [
    {
     "data": {
      "text/plain": [
       "array([[ 0.31622777, -0.9486833 ],\n",
       "       [-0.9486833 , -0.31622777]])"
      ]
     },
     "execution_count": 17,
     "metadata": {},
     "output_type": "execute_result"
    }
   ],
   "source": [
    "eigenvec"
   ]
  },
  {
   "cell_type": "code",
   "execution_count": 19,
   "metadata": {},
   "outputs": [
    {
     "data": {
      "text/plain": [
       "array([[ -5.05964426,  -3.79473319],\n",
       "       [ -2.52982213,  -1.8973666 ],\n",
       "       [ -7.58946638,  -5.69209979],\n",
       "       [-12.64911064,  -9.48683298]])"
      ]
     },
     "execution_count": 19,
     "metadata": {},
     "output_type": "execute_result"
    }
   ],
   "source": [
    "svd_left = np.matmul(mat, eigenvec.transpose())\n",
    "svd_left"
   ]
  },
  {
   "cell_type": "code",
   "execution_count": 5,
   "metadata": {},
   "outputs": [
    {
     "data": {
      "text/plain": [
       "array([[19.74841766,  0.        ],\n",
       "       [ 0.        ,  0.        ],\n",
       "       [ 0.        ,  0.        ],\n",
       "       [ 0.        ,  0.        ]])"
      ]
     },
     "execution_count": 5,
     "metadata": {},
     "output_type": "execute_result"
    }
   ],
   "source": [
    "mat_shape = mat.shape\n",
    "\n",
    "S = np.zeros(mat_shape)\n",
    "for i in range(len(eigenval)):\n",
    "    S[i][i] = np.sqrt(eigenval[i])\n",
    "\n",
    "S"
   ]
  },
  {
   "cell_type": "code",
   "execution_count": 6,
   "metadata": {},
   "outputs": [
    {
     "data": {
      "text/plain": [
       "array([[0., 0., 0., 0.],\n",
       "       [0., 0., 0., 0.],\n",
       "       [0., 0., 0., 0.],\n",
       "       [0., 0., 0., 0.]])"
      ]
     },
     "execution_count": 6,
     "metadata": {},
     "output_type": "execute_result"
    }
   ],
   "source": [
    "UT = np.zeros((mat_shape[0], mat_shape[0]))\n",
    "UT"
   ]
  },
  {
   "cell_type": "code",
   "execution_count": 7,
   "metadata": {},
   "outputs": [],
   "source": [
    "for i in range(len(eigenval)):\n",
    "    if eigenval[i] > 0:\n",
    "        u = svd_left.transpose()[i] / S[i][i]\n",
    "        UT[i] = u\n",
    "\n",
    "UT"
   ]
  },
  {
   "cell_type": "code",
   "execution_count": 14,
   "metadata": {},
   "outputs": [
    {
     "data": {
      "text/plain": [
       "249.6"
      ]
     },
     "execution_count": 14,
     "metadata": {},
     "output_type": "execute_result"
    }
   ],
   "source": [
    "np.linalg.norm(svd_left.transpose()[0]) ** 2"
   ]
  },
  {
   "cell_type": "code",
   "execution_count": 12,
   "metadata": {},
   "outputs": [
    {
     "data": {
      "text/plain": [
       "390.000052199298"
      ]
     },
     "execution_count": 12,
     "metadata": {},
     "output_type": "execute_result"
    }
   ],
   "source": [
    "6.324555 ** 2 + 3.162278 ** 2 + 9.486833 ** 2 + 15.81139 ** 2"
   ]
  }
 ],
 "metadata": {
  "kernelspec": {
   "display_name": "tomron",
   "language": "python",
   "name": "python3"
  },
  "language_info": {
   "codemirror_mode": {
    "name": "ipython",
    "version": 3
   },
   "file_extension": ".py",
   "mimetype": "text/x-python",
   "name": "python",
   "nbconvert_exporter": "python",
   "pygments_lexer": "ipython3",
   "version": "3.8.15"
  },
  "orig_nbformat": 4,
  "vscode": {
   "interpreter": {
    "hash": "2a3923ec5fa4fd0643fc0e83278a1418aebb2f6b32fefa9f49adce9c88989fa4"
   }
  }
 },
 "nbformat": 4,
 "nbformat_minor": 2
}
