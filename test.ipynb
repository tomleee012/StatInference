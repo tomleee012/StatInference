{
 "cells": [
  {
   "cell_type": "code",
   "execution_count": 1,
   "metadata": {},
   "outputs": [],
   "source": [
    "import os, sys, json, scipy\n",
    "import numpy as np"
   ]
  },
  {
   "cell_type": "code",
   "execution_count": 2,
   "metadata": {},
   "outputs": [
    {
     "data": {
      "text/plain": [
       "array([[ 2,  6],\n",
       "       [ 1,  3],\n",
       "       [ 3,  9],\n",
       "       [ 5, 15]])"
      ]
     },
     "execution_count": 2,
     "metadata": {},
     "output_type": "execute_result"
    }
   ],
   "source": [
    "mat = np.array([[2, 6], [1, 3], [3, 9], [5, 15]])\n",
    "mat"
   ]
  },
  {
   "cell_type": "code",
   "execution_count": 3,
   "metadata": {},
   "outputs": [
    {
     "data": {
      "text/plain": [
       "array([390.,   0.])"
      ]
     },
     "execution_count": 3,
     "metadata": {},
     "output_type": "execute_result"
    }
   ],
   "source": [
    "eigenval, eigenvec = np.linalg.eigh(np.matmul(mat.transpose(), mat))\n",
    "eigenvec = eigenvec[np.argsort(eigenval)[::-1]].transpose()\n",
    "eigenval = np.sort(eigenval)[::-1]\n",
    "eigenval"
   ]
  },
  {
   "cell_type": "code",
   "execution_count": 4,
   "metadata": {},
   "outputs": [
    {
     "data": {
      "text/plain": [
       "array([[ 0.31622777, -0.9486833 ],\n",
       "       [ 0.9486833 ,  0.31622777]])"
      ]
     },
     "execution_count": 4,
     "metadata": {},
     "output_type": "execute_result"
    }
   ],
   "source": [
    "eigenvec"
   ]
  },
  {
   "cell_type": "code",
   "execution_count": 5,
   "metadata": {},
   "outputs": [
    {
     "data": {
      "text/plain": [
       "array([[ 6.32455532e+00, -2.22044605e-16],\n",
       "       [ 3.16227766e+00, -1.11022302e-16],\n",
       "       [ 9.48683298e+00, -1.11022302e-16],\n",
       "       [ 1.58113883e+01, -7.77156117e-16]])"
      ]
     },
     "execution_count": 5,
     "metadata": {},
     "output_type": "execute_result"
    }
   ],
   "source": [
    "svd_left = np.matmul(mat, eigenvec)\n",
    "svd_left"
   ]
  },
  {
   "cell_type": "code",
   "execution_count": 6,
   "metadata": {},
   "outputs": [
    {
     "data": {
      "text/plain": [
       "array([[19.74841766,  0.        ],\n",
       "       [ 0.        ,  0.        ],\n",
       "       [ 0.        ,  0.        ],\n",
       "       [ 0.        ,  0.        ]])"
      ]
     },
     "execution_count": 6,
     "metadata": {},
     "output_type": "execute_result"
    }
   ],
   "source": [
    "mat_shape = mat.shape\n",
    "\n",
    "S = np.zeros(mat_shape)\n",
    "for i in range(len(eigenval)):\n",
    "    S[i][i] = np.sqrt(eigenval[i])\n",
    "\n",
    "S"
   ]
  },
  {
   "cell_type": "code",
   "execution_count": 7,
   "metadata": {},
   "outputs": [
    {
     "data": {
      "text/plain": [
       "array([[0., 0., 0., 0.],\n",
       "       [0., 0., 0., 0.],\n",
       "       [0., 0., 0., 0.],\n",
       "       [0., 0., 0., 0.]])"
      ]
     },
     "execution_count": 7,
     "metadata": {},
     "output_type": "execute_result"
    }
   ],
   "source": [
    "UT = np.zeros((mat_shape[0], mat_shape[0]))\n",
    "UT"
   ]
  },
  {
   "cell_type": "code",
   "execution_count": 8,
   "metadata": {},
   "outputs": [],
   "source": [
    "for i in range(len(eigenval)):\n",
    "    if eigenval[i] > 0:\n",
    "        u = svd_left.transpose()[i] / S[i][i]\n",
    "        UT[i] = u"
   ]
  },
  {
   "cell_type": "code",
   "execution_count": 9,
   "metadata": {},
   "outputs": [],
   "source": [
    "def GenOrthVec(UT: np.array):\n",
    "    mat_shape = UT.shape[0]\n",
    "    rawgram = np.random.dirichlet(tuple([1 for i in range(mat_shape)]))\n",
    "    rawgram /= scipy.linalg.norm(rawgram)\n",
    "    gram = rawgram - np.dot(rawgram, UT[0]) * UT[0]\n",
    "\n",
    "    for i in range(1, mat_shape):\n",
    "        gram -= np.dot(gram, UT[i]) * UT[i]\n",
    "    gram /= scipy.linalg.norm(gram)\n",
    "    \n",
    "    return gram"
   ]
  },
  {
   "cell_type": "code",
   "execution_count": 10,
   "metadata": {},
   "outputs": [
    {
     "data": {
      "text/plain": [
       "array([[ 0.32025631,  0.16012815,  0.48038446,  0.80064077],\n",
       "       [-0.2376931 , -0.06235213, -0.77998182,  0.57553676],\n",
       "       [-0.13007256,  0.98277509, -0.10089789, -0.08398726],\n",
       "       [-0.90775493, -0.06800222,  0.38817359,  0.14379826]])"
      ]
     },
     "execution_count": 10,
     "metadata": {},
     "output_type": "execute_result"
    }
   ],
   "source": [
    "for i in range(mat_shape[0]):\n",
    "    if scipy.linalg.norm(UT[i]) == 0.0:\n",
    "        UT[i] = GenOrthVec(UT)\n",
    "\n",
    "UT"
   ]
  },
  {
   "cell_type": "code",
   "execution_count": 11,
   "metadata": {},
   "outputs": [
    {
     "data": {
      "text/plain": [
       "array([[0.05063697, 0.        , 0.        , 0.        ],\n",
       "       [0.        , 0.        , 0.        , 0.        ]])"
      ]
     },
     "execution_count": 11,
     "metadata": {},
     "output_type": "execute_result"
    }
   ],
   "source": [
    "SP = np.zeros((S.shape[1], S.shape[0]))\n",
    "for i in range(len(eigenval)):\n",
    "    if eigenval[i] > 0:\n",
    "        SP[i][i] = 1 / np.sqrt(eigenval[i])\n",
    "\n",
    "SP"
   ]
  },
  {
   "cell_type": "code",
   "execution_count": 28,
   "metadata": {},
   "outputs": [
    {
     "data": {
      "text/plain": [
       "array([[0.00512821, 0.0025641 , 0.00769231, 0.01282051],\n",
       "       [0.01538462, 0.00769231, 0.02307692, 0.03846154]])"
      ]
     },
     "execution_count": 28,
     "metadata": {},
     "output_type": "execute_result"
    }
   ],
   "source": [
    "MPInv = np.matmul(eigenvec.transpose(), SP)\n",
    "MPInv = np.matmul(MPInv, UT)\n",
    "MPInv = np.abs(MPInv)\n",
    "MPInv"
   ]
  },
  {
   "cell_type": "code",
   "execution_count": 32,
   "metadata": {},
   "outputs": [
    {
     "data": {
      "text/plain": [
       "array([[0.00512821, 0.0025641 , 0.00769231, 0.01282051],\n",
       "       [0.01538462, 0.00769231, 0.02307692, 0.03846154]])"
      ]
     },
     "execution_count": 32,
     "metadata": {},
     "output_type": "execute_result"
    }
   ],
   "source": [
    "np.matmul(np.matmul( MPInv, mat), MPInv)"
   ]
  },
  {
   "cell_type": "code",
   "execution_count": null,
   "metadata": {},
   "outputs": [],
   "source": []
  }
 ],
 "metadata": {
  "kernelspec": {
   "display_name": "tomron",
   "language": "python",
   "name": "python3"
  },
  "language_info": {
   "codemirror_mode": {
    "name": "ipython",
    "version": 3
   },
   "file_extension": ".py",
   "mimetype": "text/x-python",
   "name": "python",
   "nbconvert_exporter": "python",
   "pygments_lexer": "ipython3",
   "version": "3.8.15"
  },
  "orig_nbformat": 4,
  "vscode": {
   "interpreter": {
    "hash": "2a3923ec5fa4fd0643fc0e83278a1418aebb2f6b32fefa9f49adce9c88989fa4"
   }
  }
 },
 "nbformat": 4,
 "nbformat_minor": 2
}
